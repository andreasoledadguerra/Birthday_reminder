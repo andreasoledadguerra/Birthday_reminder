{
 "cells": [
  {
   "cell_type": "markdown",
   "metadata": {},
   "source": [
    "# Birthday reminder\n",
    "\n",
    "Challenge: \n",
    "Create a terminal program that prompts the user for input regarding their desired action. Among these options, the first one should be 'Add new entry' (or similar). When this option is selected, the program should prompt the user for a name, birthday date, and gift. This new entry should then be saved as a new row in the calendar file, after which the program should terminate."
   ]
  },
  {
   "cell_type": "code",
   "execution_count": 1,
   "metadata": {},
   "outputs": [
    {
     "ename": "SyntaxError",
     "evalue": "invalid syntax (1672369464.py, line 2)",
     "output_type": "error",
     "traceback": [
      "\u001b[0;36m  Cell \u001b[0;32mIn[1], line 2\u001b[0;36m\u001b[0m\n\u001b[0;31m    from pathlib i\u001b[0m\n\u001b[0m                 ^\u001b[0m\n\u001b[0;31mSyntaxError\u001b[0m\u001b[0;31m:\u001b[0m invalid syntax\n"
     ]
    }
   ],
   "source": [
    "import pandas as pd\n",
    "from pathlib import Path"
   ]
  },
  {
   "cell_type": "code",
   "execution_count": null,
   "metadata": {},
   "outputs": [],
   "source": [
    "def create_empty_df() -> pd.DataFrame:\n",
    "    \"\"\"Se crea un DataFrame vacío con las columnas que necesita.\"\"\"\n",
    "    columns = [\"name\", \"birthdate\", \"gift\"]\n",
    "    return pd.Dataframe(columns=columns)"
   ]
  },
  {
   "cell_type": "code",
   "execution_count": null,
   "metadata": {},
   "outputs": [],
   "source": [
    "def add_row(df:pd.DataFrame, row: list) -> pd.Dataframe:\n",
    "    df_row_new = pd.DataFrame([row], columns=df.columns)\n",
    "    df = pd.concat([df, df_row_new], ignore_index=True)\n",
    "    return df"
   ]
  },
  {
   "cell_type": "markdown",
   "metadata": {},
   "source": [
    "\"Si la persona no tiene un archivo  de calendario previamente creado, crear uno vacío.\n",
    "Si ya tiene un archivo creado, utilizarlo para: levantarlo, modificarlo y guardarlo."
   ]
  },
  {
   "cell_type": "code",
   "execution_count": null,
   "metadata": {},
   "outputs": [],
   "source": []
  }
 ],
 "metadata": {
  "kernelspec": {
   "display_name": "env",
   "language": "python",
   "name": "python3"
  },
  "language_info": {
   "codemirror_mode": {
    "name": "ipython",
    "version": 3
   },
   "file_extension": ".py",
   "mimetype": "text/x-python",
   "name": "python",
   "nbconvert_exporter": "python",
   "pygments_lexer": "ipython3",
   "version": "3.10.12"
  }
 },
 "nbformat": 4,
 "nbformat_minor": 2
}
