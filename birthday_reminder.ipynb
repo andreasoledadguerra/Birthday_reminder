{
 "cells": [
  {
   "cell_type": "markdown",
   "metadata": {},
   "source": [
    "# Birthday reminder\n",
    "\n",
    "Challenge: \n",
    "Create a terminal program that prompts the user for input regarding their desired action. Among these options, the first one should be 'Add new entry' (or similar). When this option is selected, the program should prompt the user for a name, birthday date, and gift. This new entry should then be saved as a new row in the calendar file, after which the program should terminate."
   ]
  },
  {
   "cell_type": "code",
   "execution_count": null,
   "metadata": {},
   "outputs": [],
   "source": [
    "import pandas as pd"
   ]
  },
  {
   "cell_type": "code",
   "execution_count": null,
   "metadata": {},
   "outputs": [],
   "source": [
    "def create_empty_df() -> pd.DataFrame:\n",
    "    \"\"\"Se crea un DataFrame vacío con las columnas que necesita.\"\"\"\n",
    "    columns = [\"name\", \"birthdate\", \"gift\"]\n",
    "    return pd.Dataframe(columns=columns)"
   ]
  },
  {
   "cell_type": "code",
   "execution_count": null,
   "metadata": {},
   "outputs": [],
   "source": [
    "def add_row(df:pd.DataFrame, row: list) -> pd.Dataframe:\n",
    "    df_row_new = pd.DataFrame([row], columns=df.columns)\n",
    "    df = pd.concat([df, df_row_new], ignore_index=True)\n",
    "    return df"
   ]
  }
 ],
 "metadata": {
  "language_info": {
   "name": "python"
  }
 },
 "nbformat": 4,
 "nbformat_minor": 2
}
